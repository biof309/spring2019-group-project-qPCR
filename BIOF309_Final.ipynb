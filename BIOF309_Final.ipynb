{
 "cells": [
  {
   "cell_type": "markdown",
   "metadata": {
    "slideshow": {
     "slide_type": "slide"
    }
   },
   "source": [
    "# qPCR Math in Python"
   ]
  },
  {
   "cell_type": "markdown",
   "metadata": {
    "slideshow": {
     "slide_type": "fragment"
    }
   },
   "source": [
    "## - Calculate the delta values between WT and KO and average "
   ]
  },
  {
   "cell_type": "markdown",
   "metadata": {
    "slideshow": {
     "slide_type": "fragment"
    }
   },
   "source": [
    "## - Calculate the delta value of the averages and fold change"
   ]
  },
  {
   "cell_type": "markdown",
   "metadata": {
    "slideshow": {
     "slide_type": "fragment"
    }
   },
   "source": [
    "## - Calculate standard errors and variance"
   ]
  },
  {
   "cell_type": "markdown",
   "metadata": {
    "slideshow": {
     "slide_type": "fragment"
    }
   },
   "source": [
    "## - Graph the fold changes"
   ]
  },
  {
   "cell_type": "markdown",
   "metadata": {
    "slideshow": {
     "slide_type": "slide"
    }
   },
   "source": [
    "## Import File"
   ]
  },
  {
   "cell_type": "code",
   "execution_count": 0,
   "metadata": {
    "colab": {},
    "colab_type": "code",
    "id": "pfik_F4GhUpp",
    "slideshow": {
     "slide_type": "fragment"
    }
   },
   "outputs": [],
   "source": [
    "#import pandas and numpy\n",
    "import pandas as pd\n",
    "import numpy as np\n"
   ]
  },
  {
   "cell_type": "code",
   "execution_count": 2,
   "metadata": {
    "colab": {
     "base_uri": "https://localhost:8080/",
     "height": 71.0,
     "resources": {
      "http://localhost:8080/nbextensions/google.colab/files.js": {
       "data": "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",
       "headers": [
        [
         "content-type",
         "application/javascript"
        ]
       ],
       "ok": true,
       "status": 200.0,
       "status_text": ""
      }
     }
    },
    "colab_type": "code",
    "id": "J13HHUTIhUpt",
    "outputId": "0bfdf462-f6a8-449f-a5aa-d3b00918a033",
    "slideshow": {
     "slide_type": "fragment"
    }
   },
   "outputs": [
    {
     "data": {
      "text/html": [
       "\n",
       "     <input type=\"file\" id=\"files-ebb33a66-6837-4ea8-aae1-d413fb711871\" name=\"files[]\" multiple disabled />\n",
       "     <output id=\"result-ebb33a66-6837-4ea8-aae1-d413fb711871\">\n",
       "      Upload widget is only available when the cell has been executed in the\n",
       "      current browser session. Please rerun this cell to enable.\n",
       "      </output>\n",
       "      <script src=\"/nbextensions/google.colab/files.js\"></script> "
      ],
      "text/plain": [
       "<IPython.core.display.HTML object>"
      ]
     },
     "metadata": {
      "tags": []
     },
     "output_type": "execute_result"
    },
    {
     "name": "stdout",
     "output_type": "stream",
     "text": [
      "Saving qpcr.xls to qpcr.xls\n"
     ]
    }
   ],
   "source": [
    "#setup Google colab and import qPCR file\n",
    "from google.colab import files\n",
    "uploaded = files.upload()\n"
   ]
  },
  {
   "cell_type": "code",
   "execution_count": 0,
   "metadata": {
    "colab": {},
    "colab_type": "code",
    "id": "eq4OO89slYnA",
    "slideshow": {
     "slide_type": "fragment"
    }
   },
   "outputs": [],
   "source": [
    "#create data frame from qPCR data\n",
    "import io\n",
    "qpcr = pd.read_excel(io.BytesIO(uploaded['qpcr.xls']), header=7)\n"
   ]
  },
  {
   "cell_type": "markdown",
   "metadata": {
    "slideshow": {
     "slide_type": "slide"
    }
   },
   "source": [
    "## Clean the Data"
   ]
  },
  {
   "cell_type": "code",
   "execution_count": 4,
   "metadata": {
    "colab": {
     "base_uri": "https://localhost:8080/",
     "height": 270.0
    },
    "colab_type": "code",
    "id": "dnnXVzwNhUpw",
    "outputId": "b20163a4-3a11-4b74-ca2f-d99db24cda33",
    "slideshow": {
     "slide_type": "fragment"
    }
   },
   "outputs": [
    {
     "data": {
      "text/html": [
       "<div>\n",
       "<style scoped>\n",
       "    .dataframe tbody tr th:only-of-type {\n",
       "        vertical-align: middle;\n",
       "    }\n",
       "\n",
       "    .dataframe tbody tr th {\n",
       "        vertical-align: top;\n",
       "    }\n",
       "\n",
       "    .dataframe thead th {\n",
       "        text-align: right;\n",
       "    }\n",
       "</style>\n",
       "<table border=\"1\" class=\"dataframe\">\n",
       "  <thead>\n",
       "    <tr style=\"text-align: right;\">\n",
       "      <th></th>\n",
       "      <th>Well</th>\n",
       "      <th>Sample Name</th>\n",
       "      <th>Target Name</th>\n",
       "      <th>Task</th>\n",
       "      <th>Reporter</th>\n",
       "      <th>Quencher</th>\n",
       "      <th>Cт</th>\n",
       "      <th>Cт Mean</th>\n",
       "      <th>Cт SD</th>\n",
       "      <th>Quantity</th>\n",
       "      <th>...</th>\n",
       "      <th>Automatic Baseline</th>\n",
       "      <th>Baseline Start</th>\n",
       "      <th>Baseline End</th>\n",
       "      <th>Tm1</th>\n",
       "      <th>Tm2</th>\n",
       "      <th>Tm3</th>\n",
       "      <th>Comments</th>\n",
       "      <th>HIGHSD</th>\n",
       "      <th>EXPFAIL</th>\n",
       "      <th>MTP</th>\n",
       "    </tr>\n",
       "  </thead>\n",
       "  <tbody>\n",
       "    <tr>\n",
       "      <th>0</th>\n",
       "      <td>A1</td>\n",
       "      <td>WTplus</td>\n",
       "      <td>T11a</td>\n",
       "      <td>UNKNOWN</td>\n",
       "      <td>SYBR</td>\n",
       "      <td>None</td>\n",
       "      <td>13.646971</td>\n",
       "      <td>13.419525</td>\n",
       "      <td>0.246278</td>\n",
       "      <td>NaN</td>\n",
       "      <td>...</td>\n",
       "      <td>True</td>\n",
       "      <td>1</td>\n",
       "      <td>2</td>\n",
       "      <td>83.609039</td>\n",
       "      <td>NaN</td>\n",
       "      <td>NaN</td>\n",
       "      <td>NaN</td>\n",
       "      <td>N</td>\n",
       "      <td>N</td>\n",
       "      <td>N</td>\n",
       "    </tr>\n",
       "    <tr>\n",
       "      <th>1</th>\n",
       "      <td>A2</td>\n",
       "      <td>WTplus</td>\n",
       "      <td>T11a</td>\n",
       "      <td>UNKNOWN</td>\n",
       "      <td>SYBR</td>\n",
       "      <td>None</td>\n",
       "      <td>13.157971</td>\n",
       "      <td>13.419525</td>\n",
       "      <td>0.246278</td>\n",
       "      <td>NaN</td>\n",
       "      <td>...</td>\n",
       "      <td>True</td>\n",
       "      <td>1</td>\n",
       "      <td>2</td>\n",
       "      <td>83.799431</td>\n",
       "      <td>NaN</td>\n",
       "      <td>NaN</td>\n",
       "      <td>NaN</td>\n",
       "      <td>N</td>\n",
       "      <td>N</td>\n",
       "      <td>N</td>\n",
       "    </tr>\n",
       "    <tr>\n",
       "      <th>2</th>\n",
       "      <td>A3</td>\n",
       "      <td>WTplus</td>\n",
       "      <td>T11a</td>\n",
       "      <td>UNKNOWN</td>\n",
       "      <td>SYBR</td>\n",
       "      <td>None</td>\n",
       "      <td>13.453634</td>\n",
       "      <td>13.419525</td>\n",
       "      <td>0.246278</td>\n",
       "      <td>NaN</td>\n",
       "      <td>...</td>\n",
       "      <td>True</td>\n",
       "      <td>1</td>\n",
       "      <td>2</td>\n",
       "      <td>83.799431</td>\n",
       "      <td>NaN</td>\n",
       "      <td>NaN</td>\n",
       "      <td>NaN</td>\n",
       "      <td>N</td>\n",
       "      <td>N</td>\n",
       "      <td>N</td>\n",
       "    </tr>\n",
       "    <tr>\n",
       "      <th>3</th>\n",
       "      <td>A4</td>\n",
       "      <td>WTplus</td>\n",
       "      <td>S15</td>\n",
       "      <td>UNKNOWN</td>\n",
       "      <td>SYBR</td>\n",
       "      <td>None</td>\n",
       "      <td>19.986971</td>\n",
       "      <td>19.786646</td>\n",
       "      <td>0.495761</td>\n",
       "      <td>NaN</td>\n",
       "      <td>...</td>\n",
       "      <td>True</td>\n",
       "      <td>3</td>\n",
       "      <td>12</td>\n",
       "      <td>90.653671</td>\n",
       "      <td>NaN</td>\n",
       "      <td>NaN</td>\n",
       "      <td>NaN</td>\n",
       "      <td>N</td>\n",
       "      <td>N</td>\n",
       "      <td>N</td>\n",
       "    </tr>\n",
       "    <tr>\n",
       "      <th>4</th>\n",
       "      <td>A5</td>\n",
       "      <td>WTplus</td>\n",
       "      <td>S15</td>\n",
       "      <td>UNKNOWN</td>\n",
       "      <td>SYBR</td>\n",
       "      <td>None</td>\n",
       "      <td>20.094048</td>\n",
       "      <td>19.786646</td>\n",
       "      <td>0.495761</td>\n",
       "      <td>NaN</td>\n",
       "      <td>...</td>\n",
       "      <td>True</td>\n",
       "      <td>3</td>\n",
       "      <td>12</td>\n",
       "      <td>90.653671</td>\n",
       "      <td>NaN</td>\n",
       "      <td>NaN</td>\n",
       "      <td>NaN</td>\n",
       "      <td>N</td>\n",
       "      <td>N</td>\n",
       "      <td>N</td>\n",
       "    </tr>\n",
       "  </tbody>\n",
       "</table>\n",
       "<p>5 rows × 24 columns</p>\n",
       "</div>"
      ],
      "text/plain": [
       "  Well Sample Name Target Name     Task Reporter Quencher         Cт  \\\n",
       "0   A1      WTplus        T11a  UNKNOWN     SYBR     None  13.646971   \n",
       "1   A2      WTplus        T11a  UNKNOWN     SYBR     None  13.157971   \n",
       "2   A3      WTplus        T11a  UNKNOWN     SYBR     None  13.453634   \n",
       "3   A4      WTplus         S15  UNKNOWN     SYBR     None  19.986971   \n",
       "4   A5      WTplus         S15  UNKNOWN     SYBR     None  20.094048   \n",
       "\n",
       "     Cт Mean     Cт SD  Quantity  ...  Automatic Baseline  Baseline Start  \\\n",
       "0  13.419525  0.246278       NaN  ...                True               1   \n",
       "1  13.419525  0.246278       NaN  ...                True               1   \n",
       "2  13.419525  0.246278       NaN  ...                True               1   \n",
       "3  19.786646  0.495761       NaN  ...                True               3   \n",
       "4  19.786646  0.495761       NaN  ...                True               3   \n",
       "\n",
       "   Baseline End        Tm1  Tm2  Tm3  Comments  HIGHSD  EXPFAIL  MTP  \n",
       "0             2  83.609039  NaN  NaN       NaN       N        N    N  \n",
       "1             2  83.799431  NaN  NaN       NaN       N        N    N  \n",
       "2             2  83.799431  NaN  NaN       NaN       N        N    N  \n",
       "3            12  90.653671  NaN  NaN       NaN       N        N    N  \n",
       "4            12  90.653671  NaN  NaN       NaN       N        N    N  \n",
       "\n",
       "[5 rows x 24 columns]"
      ]
     },
     "execution_count": 4,
     "metadata": {
      "tags": []
     },
     "output_type": "execute_result"
    }
   ],
   "source": [
    "#slice data frame\n",
    "qpcr = qpcr.iloc[:, 0:-5]\n",
    "qpcr.iloc[:,6] = pd.to_numeric(qpcr.iloc[:,6], errors='coerce')\n",
    "qpcr.head()"
   ]
  },
  {
   "cell_type": "markdown",
   "metadata": {
    "slideshow": {
     "slide_type": "slide"
    }
   },
   "source": [
    "## Create First Dataframe of delta CT values"
   ]
  },
  {
   "cell_type": "code",
   "execution_count": 17,
   "metadata": {
    "colab": {
     "base_uri": "https://localhost:8080/",
     "height": 153.0
    },
    "colab_type": "code",
    "id": "95yXnQNShUp2",
    "outputId": "71a876a3-f933-463c-fd26-0e7dd3753a40",
    "slideshow": {
     "slide_type": "fragment"
    }
   },
   "outputs": [
    {
     "name": "stdout",
     "output_type": "stream",
     "text": [
      "Well letter and gene type: A WT\n",
      "Well letter and gene type: A KO\n",
      "Well letter and gene type: C WT \n",
      "Well letter and gene type: C KO\n",
      "Well letter and gene type: E WT \n",
      "Well letter and gene type: E KO\n",
      "Well letter and gene type: G WT \n",
      "Well letter and gene type: G KO\n"
     ]
    }
   ],
   "source": [
    "#prompt user for sample names\n",
    "plates = []\n",
    "for i in range(8):\n",
    "    gene = input('Well letter and gene type: ')\n",
    "    plates.append(gene)"
   ]
  },
  {
   "cell_type": "code",
   "execution_count": 0,
   "metadata": {
    "colab": {},
    "colab_type": "code",
    "id": "_n_udY2orDPf",
    "slideshow": {
     "slide_type": "subslide"
    }
   },
   "outputs": [],
   "source": [
    "'''This cell calculates delta CT values for all samples'''\n",
    "\n",
    "#create empty list for delta CT value calculations\n",
    "deltaCT = []\n",
    "\n",
    "#loop through WT and KO samples of each gene\n",
    "#first checking for invalid values before running calculations\n",
    "i = 0\n",
    "a = 0 \n",
    "b = 3\n",
    "c = 6\n",
    "d = 9\n",
    "e = 12\n",
    "\n",
    "while i < 4:\n",
    "    \n",
    "    #run WT calculations\n",
    "    x = np.array(qpcr.iloc[a:b, 6])\n",
    "    y = np.array(qpcr.iloc[b:c, 6])\n",
    "    \n",
    "    if np.isnan(x).any() or np.isnan(y).any():\n",
    "        print('{plates}: A value is \"Undetermined\".'.format(plates=plates[i]))\n",
    "    else:\n",
    "        z = x - y \n",
    "    \n",
    "    #run KO calculations\n",
    "    x2 = np.array(qpcr.iloc[c:d, 6])\n",
    "    y2 = np.array(qpcr.iloc[d:e, 6])\n",
    "    \n",
    "    \n",
    "    if np.isnan(x2).any() or np.isnan(y2).any():\n",
    "        print('{plates}: A value is \"Undetermined\".'.format(plates=plates[i]))\n",
    "    else:\n",
    "        z2 = x2 - y2\n",
    "      \n",
    "    #append calculated values to empty list\n",
    "    deltaCT.append(z)\n",
    "    deltaCT.append(z2)\n",
    "     \n",
    "    #skip negative control samples and go to next gene set\n",
    "    a += 24\n",
    "    b += 24\n",
    "    c += 24\n",
    "    d += 24\n",
    "    e += 24\n",
    "    i += 1\n",
    "    \n",
    "#concatenate array list\n",
    "deltaCT = np.vstack(deltaCT)\n",
    "\n",
    "#create data frame of calculated delta CT values\n",
    "qPCR_df = pd.DataFrame(deltaCT, columns=['dCT1', 'dCT2', 'dCT3'], index=plates)"
   ]
  },
  {
   "cell_type": "code",
   "execution_count": 0,
   "metadata": {
    "colab": {},
    "colab_type": "code",
    "id": "Yc1TGEOhKNf7",
    "slideshow": {
     "slide_type": "fragment"
    }
   },
   "outputs": [],
   "source": [
    "#calculate average delta CT values for each triplicate\n",
    "deltaCT_avg = []\n",
    "for array in deltaCT:\n",
    "  average = np.mean(array)\n",
    "  deltaCT_avg.append(average)\n",
    "\n",
    "#add average values to data frame\n",
    "qPCR_df['avg dCT'] = deltaCT_avg\n"
   ]
  },
  {
   "cell_type": "markdown",
   "metadata": {
    "slideshow": {
     "slide_type": "slide"
    }
   },
   "source": [
    "## Calculate Second Dataframe of delta delta CT values"
   ]
  },
  {
   "cell_type": "code",
   "execution_count": 0,
   "metadata": {
    "colab": {},
    "colab_type": "code",
    "id": "g0Vzvn5ADQYT",
    "slideshow": {
     "slide_type": "fragment"
    }
   },
   "outputs": [],
   "source": [
    "#calculate delta delta CT values\n",
    "i=0\n",
    "a=0\n",
    "b=1\n",
    "\n",
    "delta_deltaCT = []\n",
    "\n",
    "while i < 4:\n",
    "  mean = deltaCT_avg[b] - deltaCT_avg[a]\n",
    "  delta_deltaCT.append(mean)\n",
    "  i += 1\n",
    "  a += 2\n",
    "  b += 2\n",
    " "
   ]
  },
  {
   "cell_type": "code",
   "execution_count": 22,
   "metadata": {
    "colab": {
     "base_uri": "https://localhost:8080/",
     "height": 85.0
    },
    "colab_type": "code",
    "id": "eYFsq8tyfD80",
    "outputId": "3b24b8bf-0937-4b19-d580-048040bcd05a",
    "slideshow": {
     "slide_type": "fragment"
    }
   },
   "outputs": [
    {
     "name": "stdout",
     "output_type": "stream",
     "text": [
      "What is the 1st gene being compared? 1ST\n",
      "What is the 2nd gene being compared? 2ND\n",
      "What is the 3rd gene being compared? 3RD\n",
      "What is the 4th gene being compared? 4TH\n"
     ]
    }
   ],
   "source": [
    "#set gene name for WT and KO samples being compared\n",
    "genes = []\n",
    "for i in range(4):\n",
    "  numbers = ['1st', '2nd', '3rd', '4th']\n",
    "  gene_names = input('What is the {numbers} gene being compared? '.format(numbers=numbers[i]))\n",
    "  genes.append(gene_names)"
   ]
  },
  {
   "cell_type": "code",
   "execution_count": 0,
   "metadata": {
    "colab": {},
    "colab_type": "code",
    "id": "DskdOS4QtAKW",
    "slideshow": {
     "slide_type": "fragment"
    }
   },
   "outputs": [],
   "source": [
    "#create data frame of gene samples being compared\n",
    "gene_comparison_df = pd.DataFrame(delta_deltaCT, index=genes, columns = ['ddCT'])"
   ]
  },
  {
   "cell_type": "code",
   "execution_count": 0,
   "metadata": {
    "colab": {},
    "colab_type": "code",
    "id": "9jjuSJt1Gvhb",
    "slideshow": {
     "slide_type": "fragment"
    }
   },
   "outputs": [],
   "source": [
    "#calculate fold change from delta delta CT values\n",
    "fold_change = []\n",
    "for value in delta_deltaCT:\n",
    "  change = 2 ** (value * -1)\n",
    "  fold_change.append(change)\n",
    "\n",
    "#add fold change to data frame\n",
    "gene_comparison_df['fold change'] = fold_change"
   ]
  },
  {
   "cell_type": "markdown",
   "metadata": {
    "slideshow": {
     "slide_type": "slide"
    }
   },
   "source": [
    "## Create Third Dataframe of Standard Errors "
   ]
  },
  {
   "cell_type": "code",
   "execution_count": 0,
   "metadata": {
    "colab": {},
    "colab_type": "code",
    "id": "zM40V1R0-O-F",
    "slideshow": {
     "slide_type": "subslide"
    }
   },
   "outputs": [],
   "source": [
    "\"\"\"This cell calculates standard error for WT and KO variants of each gene\"\"\"\n",
    "\n",
    "#import libraries\n",
    "from math import sqrt\n",
    "\n",
    "#calculate deviation of delta CT value of each sample from the averaged value\n",
    "i=0\n",
    "deltaCT_dev = []\n",
    "for array in deltaCT:\n",
    "  deviation = deltaCT[i] - deltaCT_avg[i] \n",
    "  deltaCT_dev.append(deviation)\n",
    "  i += 1\n",
    "\n",
    "deltaCT_dev = np.vstack(deltaCT_dev)\n",
    "\n",
    "#create data frame for calculated error of data\n",
    "error_df = pd.DataFrame(deltaCT_dev, index=plates, columns=['err dCT1', 'err dCT2', 'err dCT3'] )\n",
    "\n",
    "#calculate fold change variance based on delta CT variation\n",
    "fold_change_var = []\n",
    "for array in deltaCT_dev:\n",
    "  variance = 2 ** array\n",
    "  fold_change_var.append(variance)\n",
    "\n",
    "fold_change_var = np.vstack(fold_change_var)\n",
    "\n",
    "#add fold change variances to data frame\n",
    "fcv_df = pd.DataFrame(fold_change_var, index=plates, columns=['fc var 1', 'fc var 2', 'fc var 3'])\n",
    "error_df = pd.concat([error_df, fcv_df], axis=1)\n",
    "\n",
    "#calculate standard deviation of fold change\n",
    "fc_std = []\n",
    "\n",
    "for array in fold_change_var:\n",
    "  sdev = np.std(array)\n",
    "  fc_std.append(sdev)\n",
    "\n",
    "#add standard deviation to data frame\n",
    "error_df['fc SD'] = fc_std\n",
    "  \n",
    "#calculate standard error of fold change\n",
    "fc_sem = []\n",
    "for value in fc_std:\n",
    "  error = value / sqrt(6)\n",
    "  fc_sem.append(error)\n",
    "  \n",
    "#add standard error to data frame\n",
    "error_df['fc SEM'] = fc_sem\n",
    "  "
   ]
  },
  {
   "cell_type": "markdown",
   "metadata": {
    "slideshow": {
     "slide_type": "slide"
    }
   },
   "source": [
    "## Graph the Fold Change"
   ]
  },
  {
   "cell_type": "code",
   "execution_count": 0,
   "metadata": {
    "colab": {},
    "colab_type": "code",
    "id": "4kJJxVPJtRGf",
    "slideshow": {
     "slide_type": "subslide"
    }
   },
   "outputs": [],
   "source": [
    "#create normalized WT data\n",
    "WT_data = []\n",
    "for i in range(4):\n",
    "  WT_data.append(1)"
   ]
  },
  {
   "cell_type": "code",
   "execution_count": 28,
   "metadata": {
    "colab": {
     "base_uri": "https://localhost:8080/",
     "height": 295.0
    },
    "colab_type": "code",
    "id": "wFI7nP_URscu",
    "outputId": "2c812016-37a0-45dc-d692-6d0298171160",
    "slideshow": {
     "slide_type": "fragment"
    }
   },
   "outputs": [
    {
     "data": {
      "image/png": "[encoded data removed]",
      "text/plain": [
       "<Figure size 432x288 with 1 Axes>"
      ]
     },
     "metadata": {
      "tags": []
     },
     "output_type": "display_data"
    }
   ],
   "source": [
    "#import matplotlib\n",
    "import matplotlib.pyplot as plt\n",
    "\n",
    "#set bar positions and width\n",
    "barPosition = [0, 0.75, 1.5, 2.25]\n",
    "barWidth = 0.25\n",
    "\n",
    "#define error\n",
    "WT_error = fc_sem[::2]\n",
    "KO_error = fc_sem[1::2]\n",
    "\n",
    "#create WT bars\n",
    "plt.bar(x=barPosition, height=WT_data, width=barWidth, tick_label=genes, yerr=WT_error)\n",
    "\n",
    "#create KO bars\n",
    "plt.bar(x=[p + barWidth for p in barPosition], height=fold_change, width=barWidth, tick_label=genes, yerr=KO_error)\n",
    "\n",
    "\n",
    "#set axis titles and graph title\n",
    "plt.xlabel('Gene')\n",
    "plt.ylabel('Fold Change')\n",
    "plt.title('Relative RNA expression')\n",
    "plt.legend(['WT', 'KO'])\n",
    "\n",
    "#show graph\n",
    "plt.show()"
   ]
  },
  {
   "cell_type": "markdown",
   "metadata": {
    "slideshow": {
     "slide_type": "slide"
    }
   },
   "source": [
    "## Print the Dataframes"
   ]
  },
  {
   "cell_type": "code",
   "execution_count": 29,
   "metadata": {
    "colab": {
     "base_uri": "https://localhost:8080/",
     "height": 578.0
    },
    "colab_type": "code",
    "id": "H6LMoTU3vahr",
    "outputId": "b447b9d0-94fe-4e96-f6a8-1b9fb3b91114",
    "slideshow": {
     "slide_type": "fragment"
    }
   },
   "outputs": [
    {
     "name": "stdout",
     "output_type": "stream",
     "text": [
      "           dCT1      dCT2      dCT3   avg dCT\n",
      "A WT  -6.340000 -6.936076 -6.998049 -6.758042\n",
      "A KO  -6.359312 -5.619376 -6.007844 -5.995511\n",
      "C WT  -6.517894 -6.483096 -6.088112 -6.363034\n",
      "C KO  -3.838646 -3.966069 -3.287014 -3.697243\n",
      "E WT  -2.668890 -3.357101 -3.243961 -3.089984\n",
      "E KO  -3.027693 -2.808130 -1.117119 -2.317647\n",
      "G WT  -8.989766 -7.950086 -8.750294 -8.563382\n",
      "G KO  -6.958577 -6.755314 -5.808542 -6.507478\n",
      "         ddCT  fold change\n",
      "1ST  0.762531     0.589461\n",
      "2ND  2.665791     0.157586\n",
      "3RD  0.772337     0.585468\n",
      "4TH  2.055904     0.240498\n",
      "       err dCT1  err dCT2  err dCT3  fc var 1  fc var 2  fc var 3     fc SD  \\\n",
      "A WT   0.418042 -0.178034 -0.240007  1.336113  0.883906  0.846741  0.222450   \n",
      "A KO  -0.363801  0.376135 -0.012333  0.777114  1.297860  0.991488  0.213696   \n",
      "C WT  -0.154860 -0.120062  0.274922  0.898220  0.920148  1.209929  0.142055   \n",
      "C KO  -0.141403 -0.268826  0.410229  0.906637  0.829995  1.328897  0.219363   \n",
      "E WT   0.421094 -0.267117 -0.153977  1.338943  0.830978  0.898769  0.225185   \n",
      "E KO  -0.710045 -0.490483  1.200528  0.611301  0.711787  2.298238  0.772635   \n",
      "G WT  -0.426384  0.613296 -0.186912  0.744124  1.529750  0.878484  0.343092   \n",
      "G KO  -0.451099 -0.247836  0.698936  0.731485  0.842159  1.623307  0.396903   \n",
      "\n",
      "         fc SEM  \n",
      "A WT   0.090815  \n",
      "A KO   0.087241  \n",
      "C WT   0.057994  \n",
      "C KO   0.089555  \n",
      "E WT   0.091932  \n",
      "E KO   0.315427  \n",
      "G WT   0.140067  \n",
      "G KO   0.162035  \n"
     ]
    }
   ],
   "source": [
    "#show data tables\n",
    "print(qPCR_df)\n",
    "print(gene_comparison_df)\n",
    "print(error_df)"
   ]
  },
  {
   "cell_type": "markdown",
   "metadata": {
    "slideshow": {
     "slide_type": "slide"
    }
   },
   "source": [
    "## Save to Excel"
   ]
  },
  {
   "cell_type": "code",
   "execution_count": 0,
   "metadata": {
    "colab": {},
    "colab_type": "code",
    "id": "XmdGL1RlVcE_",
    "slideshow": {
     "slide_type": "fragment"
    }
   },
   "outputs": [],
   "source": [
    "#save calculations as excel files\n",
    "with pd.ExcelWriter('{file} calculations.xlsx'.format(file=file)) as writer:\n",
    "    qPCR_df.to_excel(writer, sheet_name='dCT')\n",
    "    gene_comparison_df.to_excel(writer, sheet_name='ddCT & fold change')\n",
    "    error_df.to_excel(writer, sheet_name='calculated error')"
   ]
  }
 ],
 "metadata": {
  "celltoolbar": "Slideshow",
  "colab": {
   "collapsed_sections": [],
   "name": "BIOF309-Final.ipynb",
   "provenance": [],
   "version": "0.3.2"
  },
  "kernelspec": {
   "display_name": "Python 3",
   "language": "python",
   "name": "python3"
  },
  "language_info": {
   "codemirror_mode": {
    "name": "ipython",
    "version": 3
   },
   "file_extension": ".py",
   "mimetype": "text/x-python",
   "name": "python",
   "nbconvert_exporter": "python",
   "pygments_lexer": "ipython3",
   "version": "3.7.1"
  }
 },
 "nbformat": 4,
 "nbformat_minor": 1
}
